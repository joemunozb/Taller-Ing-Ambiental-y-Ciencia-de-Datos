{
  "nbformat": 4,
  "nbformat_minor": 0,
  "metadata": {
    "colab": {
      "provenance": [],
      "authorship_tag": "ABX9TyOShJ3ZFQRczB3po+3LOfRl",
      "include_colab_link": true
    },
    "kernelspec": {
      "name": "python3",
      "display_name": "Python 3"
    },
    "language_info": {
      "name": "python"
    }
  },
  "cells": [
    {
      "cell_type": "markdown",
      "metadata": {
        "id": "view-in-github",
        "colab_type": "text"
      },
      "source": [
        "<a href=\"https://colab.research.google.com/github/joemunozb/Taller-Ing-Ambiental-y-Ciencia-de-Datos/blob/main/Taller_Ing_Amb_y_Ciencia_Datos.ipynb\" target=\"_parent\"><img src=\"https://colab.research.google.com/assets/colab-badge.svg\" alt=\"Open In Colab\"/></a>"
      ]
    },
    {
      "cell_type": "markdown",
      "source": [
        "\n",
        "# **TALLER PRÁCTICO:**\n",
        "## **Introducción al análisis de datos Hidrológicos con Python**\n",
        "\\\n",
        "**Jorge Enrique Muñoz Barragán** \\\n",
        "jmunozb@ucentral.edu.co \\\n",
        "Docente \\\n",
        "Facultad de Ingeniería y Ciencias Básicas \\\n",
        "**Universidad Central**\n",
        "\n",
        "\n",
        "[Pregrado en Ingeniería Ambiental - Universidad Central](https://www.ucentral.edu.co/programa-academico/ingenieria-ambiental)\\\n",
        "direccionambiental@ucentral.edu.co \\\n",
        "[Pregrado en Ciencia de Datos - Universidad Central](https://www.ucentral.edu.co/programa-academico/ciencia-datos) \\\n",
        "cienciadedatos@ucentral.edu.co \\\n",
        "\n",
        "## **Primera Parte del Taller: CURVA DE DURACIÓN DE CAUDALES**\n",
        "\n",
        "1.   Curva de Duración de Caudales\n",
        "2.   Carga de datos desde Google Drive\n",
        "3.   Construcción de la Curva de Duración de Caudales\n",
        "\n",
        "\n",
        "\n"
      ],
      "metadata": {
        "id": "2a_2FDp_mf8Q"
      }
    },
    {
      "cell_type": "markdown",
      "source": [
        "### Instalación de Liberias"
      ],
      "metadata": {
        "id": "C8-vulEYtoVS"
      }
    },
    {
      "cell_type": "code",
      "source": [
        "# Instalación de librerías necesarias\n",
        "!pip install pandas numpy matplotlib scipy\n",
        "\n",
        "# Importación de librerías\n",
        "import pandas as pd\n",
        "import numpy as np\n",
        "import matplotlib.pyplot as plt"
      ],
      "metadata": {
        "colab": {
          "base_uri": "https://localhost:8080/"
        },
        "id": "VYOV79Cttsyy",
        "outputId": "f4f84443-2bb9-4bcb-e47b-49383c8c8ab3",
        "collapsed": true
      },
      "execution_count": null,
      "outputs": [
        {
          "output_type": "stream",
          "name": "stdout",
          "text": [
            "Requirement already satisfied: pandas in /usr/local/lib/python3.10/dist-packages (2.0.3)\n",
            "Requirement already satisfied: numpy in /usr/local/lib/python3.10/dist-packages (1.25.2)\n",
            "Requirement already satisfied: matplotlib in /usr/local/lib/python3.10/dist-packages (3.7.1)\n",
            "Requirement already satisfied: scipy in /usr/local/lib/python3.10/dist-packages (1.11.4)\n",
            "Requirement already satisfied: python-dateutil>=2.8.2 in /usr/local/lib/python3.10/dist-packages (from pandas) (2.8.2)\n",
            "Requirement already satisfied: pytz>=2020.1 in /usr/local/lib/python3.10/dist-packages (from pandas) (2023.4)\n",
            "Requirement already satisfied: tzdata>=2022.1 in /usr/local/lib/python3.10/dist-packages (from pandas) (2024.1)\n",
            "Requirement already satisfied: contourpy>=1.0.1 in /usr/local/lib/python3.10/dist-packages (from matplotlib) (1.2.1)\n",
            "Requirement already satisfied: cycler>=0.10 in /usr/local/lib/python3.10/dist-packages (from matplotlib) (0.12.1)\n",
            "Requirement already satisfied: fonttools>=4.22.0 in /usr/local/lib/python3.10/dist-packages (from matplotlib) (4.53.1)\n",
            "Requirement already satisfied: kiwisolver>=1.0.1 in /usr/local/lib/python3.10/dist-packages (from matplotlib) (1.4.5)\n",
            "Requirement already satisfied: packaging>=20.0 in /usr/local/lib/python3.10/dist-packages (from matplotlib) (24.1)\n",
            "Requirement already satisfied: pillow>=6.2.0 in /usr/local/lib/python3.10/dist-packages (from matplotlib) (9.4.0)\n",
            "Requirement already satisfied: pyparsing>=2.3.1 in /usr/local/lib/python3.10/dist-packages (from matplotlib) (3.1.2)\n",
            "Requirement already satisfied: six>=1.5 in /usr/local/lib/python3.10/dist-packages (from python-dateutil>=2.8.2->pandas) (1.16.0)\n"
          ]
        }
      ]
    },
    {
      "cell_type": "markdown",
      "source": [
        "### Carga del Archivo\n"
      ],
      "metadata": {
        "id": "RrXVz2ojuSkh"
      }
    },
    {
      "cell_type": "code",
      "source": [
        "# @title\n",
        "# Autenticación y acceso a Google Drive\n",
        "from google.colab import drive\n",
        "drive.mount('/content/drive')\n",
        "\n",
        "# Ruta del archivo en Google Drive\n",
        "file_path = '/content/drive/My Drive/caudales_medios_diarios.csv'\n",
        "\n",
        "# Carga del archivo CSV\n",
        "caudales_medios = pd.read_csv(file_path)"
      ],
      "metadata": {
        "colab": {
          "base_uri": "https://localhost:8080/"
        },
        "id": "LbmAVMnouOD8",
        "outputId": "36058416-5bed-41ab-fc35-b090050c2efe"
      },
      "execution_count": null,
      "outputs": [
        {
          "output_type": "stream",
          "name": "stdout",
          "text": [
            "Mounted at /content/drive\n"
          ]
        }
      ]
    },
    {
      "cell_type": "markdown",
      "source": [
        "### Previsualizar los registros"
      ],
      "metadata": {
        "id": "ode1s6O-xnAJ"
      }
    },
    {
      "cell_type": "code",
      "execution_count": null,
      "metadata": {
        "colab": {
          "base_uri": "https://localhost:8080/"
        },
        "id": "vqcwBZ7WmSAr",
        "outputId": "feb36131-49cd-4559-8e42-d1219f6abadd"
      },
      "outputs": [
        {
          "output_type": "stream",
          "name": "stdout",
          "text": [
            "       CodigoEstacion                  NombreEstacion   Latitud   Longitud  \\\n",
            "0            23037010  PUERTO SALGAR - AUT [23037010]  5.469667 -74.662167   \n",
            "1            23037010  PUERTO SALGAR - AUT [23037010]  5.469667 -74.662167   \n",
            "2            23037010  PUERTO SALGAR - AUT [23037010]  5.469667 -74.662167   \n",
            "3            23037010  PUERTO SALGAR - AUT [23037010]  5.469667 -74.662167   \n",
            "4            23037010  PUERTO SALGAR - AUT [23037010]  5.469667 -74.662167   \n",
            "...               ...                             ...       ...        ...   \n",
            "27995        23037010  PUERTO SALGAR - AUT [23037010]  5.469667 -74.662167   \n",
            "27996        23037010  PUERTO SALGAR - AUT [23037010]  5.469667 -74.662167   \n",
            "27997        23037010  PUERTO SALGAR - AUT [23037010]  5.469667 -74.662167   \n",
            "27998        23037010  PUERTO SALGAR - AUT [23037010]  5.469667 -74.662167   \n",
            "27999        23037010  PUERTO SALGAR - AUT [23037010]  5.469667 -74.662167   \n",
            "\n",
            "       Altitud     Categoria  \\\n",
            "0          186  Limnigráfica   \n",
            "1          186  Limnigráfica   \n",
            "2          186  Limnigráfica   \n",
            "3          186  Limnigráfica   \n",
            "4          186  Limnigráfica   \n",
            "...        ...           ...   \n",
            "27995      186  Limnigráfica   \n",
            "27996      186  Limnigráfica   \n",
            "27997      186  Limnigráfica   \n",
            "27998      186  Limnigráfica   \n",
            "27999      186  Limnigráfica   \n",
            "\n",
            "                                                 Entidad  \\\n",
            "0      INSTITUTO DE HIDROLOGIA METEOROLOGIA Y ESTUDIO...   \n",
            "1      INSTITUTO DE HIDROLOGIA METEOROLOGIA Y ESTUDIO...   \n",
            "2      INSTITUTO DE HIDROLOGIA METEOROLOGIA Y ESTUDIO...   \n",
            "3      INSTITUTO DE HIDROLOGIA METEOROLOGIA Y ESTUDIO...   \n",
            "4      INSTITUTO DE HIDROLOGIA METEOROLOGIA Y ESTUDIO...   \n",
            "...                                                  ...   \n",
            "27995  INSTITUTO DE HIDROLOGIA METEOROLOGIA Y ESTUDIO...   \n",
            "27996  INSTITUTO DE HIDROLOGIA METEOROLOGIA Y ESTUDIO...   \n",
            "27997  INSTITUTO DE HIDROLOGIA METEOROLOGIA Y ESTUDIO...   \n",
            "27998  INSTITUTO DE HIDROLOGIA METEOROLOGIA Y ESTUDIO...   \n",
            "27999  INSTITUTO DE HIDROLOGIA METEOROLOGIA Y ESTUDIO...   \n",
            "\n",
            "                    AreaOperativa  Departamento      Municipio  ...  \\\n",
            "0      Area Operativa 10 - Tolima  Cundinamarca  Puerto Salgar  ...   \n",
            "1      Area Operativa 10 - Tolima  Cundinamarca  Puerto Salgar  ...   \n",
            "2      Area Operativa 10 - Tolima  Cundinamarca  Puerto Salgar  ...   \n",
            "3      Area Operativa 10 - Tolima  Cundinamarca  Puerto Salgar  ...   \n",
            "4      Area Operativa 10 - Tolima  Cundinamarca  Puerto Salgar  ...   \n",
            "...                           ...           ...            ...  ...   \n",
            "27995  Area Operativa 10 - Tolima  Cundinamarca  Puerto Salgar  ...   \n",
            "27996  Area Operativa 10 - Tolima  Cundinamarca  Puerto Salgar  ...   \n",
            "27997  Area Operativa 10 - Tolima  Cundinamarca  Puerto Salgar  ...   \n",
            "27998  Area Operativa 10 - Tolima  Cundinamarca  Puerto Salgar  ...   \n",
            "27999  Area Operativa 10 - Tolima  Cundinamarca  Puerto Salgar  ...   \n",
            "\n",
            "      FechaSuspension  IdParametro   Etiqueta     DescripcionSerie Frecuencia  \\\n",
            "0                 NaN       CAUDAL  Q_MEDIA_D  Caudal medio diario     Diaria   \n",
            "1                 NaN       CAUDAL  Q_MEDIA_D  Caudal medio diario     Diaria   \n",
            "2                 NaN       CAUDAL  Q_MEDIA_D  Caudal medio diario     Diaria   \n",
            "3                 NaN       CAUDAL  Q_MEDIA_D  Caudal medio diario     Diaria   \n",
            "4                 NaN       CAUDAL  Q_MEDIA_D  Caudal medio diario     Diaria   \n",
            "...               ...          ...        ...                  ...        ...   \n",
            "27995             NaN       CAUDAL  Q_MEDIA_D  Caudal medio diario     Diaria   \n",
            "27996             NaN       CAUDAL  Q_MEDIA_D  Caudal medio diario     Diaria   \n",
            "27997             NaN       CAUDAL  Q_MEDIA_D  Caudal medio diario     Diaria   \n",
            "27998             NaN       CAUDAL  Q_MEDIA_D  Caudal medio diario     Diaria   \n",
            "27999             NaN       CAUDAL  Q_MEDIA_D  Caudal medio diario     Diaria   \n",
            "\n",
            "                  Fecha        Valor  Grado         Calificador  \\\n",
            "0      1937-01-01 00:00   330.000000      4  EST. OTROS METODOS   \n",
            "1      1937-01-02 00:00   575.000000      4  EST. OTROS METODOS   \n",
            "2      1937-01-03 00:00  2138.000000      4  EST. OTROS METODOS   \n",
            "3      1937-01-04 00:00  1970.000000      4  EST. OTROS METODOS   \n",
            "4      1937-01-05 00:00  1508.000000      4  EST. OTROS METODOS   \n",
            "...                 ...          ...    ...                 ...   \n",
            "27995  2024-07-15 00:00  1281.159250     50                 NaN   \n",
            "27996  2024-07-16 00:00  1061.595062     50                 NaN   \n",
            "27997  2024-07-17 00:00  1125.975000     50                 NaN   \n",
            "27998  2024-07-18 00:00  1318.300313     50                 NaN   \n",
            "27999  2024-07-19 00:00  1035.955000     50                 NaN   \n",
            "\n",
            "      NivelAprobacion  \n",
            "0                 900  \n",
            "1                 900  \n",
            "2                 900  \n",
            "3                 900  \n",
            "4                 900  \n",
            "...               ...  \n",
            "27995             900  \n",
            "27996             900  \n",
            "27997             900  \n",
            "27998             900  \n",
            "27999             900  \n",
            "\n",
            "[28000 rows x 21 columns]\n",
            "   CodigoEstacion                  NombreEstacion   Latitud   Longitud  \\\n",
            "0        23037010  PUERTO SALGAR - AUT [23037010]  5.469667 -74.662167   \n",
            "1        23037010  PUERTO SALGAR - AUT [23037010]  5.469667 -74.662167   \n",
            "2        23037010  PUERTO SALGAR - AUT [23037010]  5.469667 -74.662167   \n",
            "3        23037010  PUERTO SALGAR - AUT [23037010]  5.469667 -74.662167   \n",
            "4        23037010  PUERTO SALGAR - AUT [23037010]  5.469667 -74.662167   \n",
            "\n",
            "   Altitud     Categoria                                            Entidad  \\\n",
            "0      186  Limnigráfica  INSTITUTO DE HIDROLOGIA METEOROLOGIA Y ESTUDIO...   \n",
            "1      186  Limnigráfica  INSTITUTO DE HIDROLOGIA METEOROLOGIA Y ESTUDIO...   \n",
            "2      186  Limnigráfica  INSTITUTO DE HIDROLOGIA METEOROLOGIA Y ESTUDIO...   \n",
            "3      186  Limnigráfica  INSTITUTO DE HIDROLOGIA METEOROLOGIA Y ESTUDIO...   \n",
            "4      186  Limnigráfica  INSTITUTO DE HIDROLOGIA METEOROLOGIA Y ESTUDIO...   \n",
            "\n",
            "                AreaOperativa  Departamento      Municipio  ...  \\\n",
            "0  Area Operativa 10 - Tolima  Cundinamarca  Puerto Salgar  ...   \n",
            "1  Area Operativa 10 - Tolima  Cundinamarca  Puerto Salgar  ...   \n",
            "2  Area Operativa 10 - Tolima  Cundinamarca  Puerto Salgar  ...   \n",
            "3  Area Operativa 10 - Tolima  Cundinamarca  Puerto Salgar  ...   \n",
            "4  Area Operativa 10 - Tolima  Cundinamarca  Puerto Salgar  ...   \n",
            "\n",
            "  FechaSuspension  IdParametro   Etiqueta     DescripcionSerie Frecuencia  \\\n",
            "0             NaN       CAUDAL  Q_MEDIA_D  Caudal medio diario     Diaria   \n",
            "1             NaN       CAUDAL  Q_MEDIA_D  Caudal medio diario     Diaria   \n",
            "2             NaN       CAUDAL  Q_MEDIA_D  Caudal medio diario     Diaria   \n",
            "3             NaN       CAUDAL  Q_MEDIA_D  Caudal medio diario     Diaria   \n",
            "4             NaN       CAUDAL  Q_MEDIA_D  Caudal medio diario     Diaria   \n",
            "\n",
            "              Fecha   Valor  Grado         Calificador NivelAprobacion  \n",
            "0  1937-01-01 00:00   330.0      4  EST. OTROS METODOS             900  \n",
            "1  1937-01-02 00:00   575.0      4  EST. OTROS METODOS             900  \n",
            "2  1937-01-03 00:00  2138.0      4  EST. OTROS METODOS             900  \n",
            "3  1937-01-04 00:00  1970.0      4  EST. OTROS METODOS             900  \n",
            "4  1937-01-05 00:00  1508.0      4  EST. OTROS METODOS             900  \n",
            "\n",
            "[5 rows x 21 columns]\n",
            "<class 'pandas.core.frame.DataFrame'>\n",
            "RangeIndex: 28000 entries, 0 to 27999\n",
            "Data columns (total 21 columns):\n",
            " #   Column            Non-Null Count  Dtype  \n",
            "---  ------            --------------  -----  \n",
            " 0   CodigoEstacion    28000 non-null  int64  \n",
            " 1   NombreEstacion    28000 non-null  object \n",
            " 2   Latitud           28000 non-null  float64\n",
            " 3   Longitud          28000 non-null  float64\n",
            " 4   Altitud           28000 non-null  int64  \n",
            " 5   Categoria         28000 non-null  object \n",
            " 6   Entidad           28000 non-null  object \n",
            " 7   AreaOperativa     28000 non-null  object \n",
            " 8   Departamento      28000 non-null  object \n",
            " 9   Municipio         28000 non-null  object \n",
            " 10  FechaInstalacion  28000 non-null  object \n",
            " 11  FechaSuspension   0 non-null      float64\n",
            " 12  IdParametro       28000 non-null  object \n",
            " 13  Etiqueta          28000 non-null  object \n",
            " 14  DescripcionSerie  28000 non-null  object \n",
            " 15  Frecuencia        28000 non-null  object \n",
            " 16  Fecha             28000 non-null  object \n",
            " 17  Valor             28000 non-null  float64\n",
            " 18  Grado             28000 non-null  int64  \n",
            " 19  Calificador       15887 non-null  object \n",
            " 20  NivelAprobacion   28000 non-null  int64  \n",
            "dtypes: float64(4), int64(4), object(13)\n",
            "memory usage: 4.5+ MB\n",
            "None\n",
            "                  Fecha        Valor\n",
            "0      1937-01-01 00:00   330.000000\n",
            "1      1937-01-02 00:00   575.000000\n",
            "2      1937-01-03 00:00  2138.000000\n",
            "3      1937-01-04 00:00  1970.000000\n",
            "4      1937-01-05 00:00  1508.000000\n",
            "...                 ...          ...\n",
            "27995  2024-07-15 00:00  1281.159250\n",
            "27996  2024-07-16 00:00  1061.595062\n",
            "27997  2024-07-17 00:00  1125.975000\n",
            "27998  2024-07-18 00:00  1318.300313\n",
            "27999  2024-07-19 00:00  1035.955000\n",
            "\n",
            "[28000 rows x 2 columns]\n",
            "                  Fecha        Valor\n",
            "25401  2017-05-17 00:00  6595.341859\n",
            "25402  2017-05-18 00:00  6560.749432\n",
            "23209  2011-04-20 00:00  6488.000000\n",
            "23208  2011-04-19 00:00  6278.000000\n",
            "25400  2017-05-16 00:00  6220.206208\n",
            "...                 ...          ...\n",
            "72     1937-03-14 00:00   197.000000\n",
            "69     1937-03-11 00:00   194.000000\n",
            "73     1937-03-15 00:00   182.000000\n",
            "70     1937-03-12 00:00   182.000000\n",
            "71     1937-03-13 00:00   173.000000\n",
            "\n",
            "[28000 rows x 2 columns]\n"
          ]
        }
      ],
      "source": [
        "# Visualización del archivo completo\n",
        "print(caudales_medios)\n",
        "\n",
        "# Visualización de los primeros registros\n",
        "print(caudales_medios.head())\n",
        "\n",
        "# Verificación de la estructura del DataFrame\n",
        "print(caudales_medios.info())\n",
        "\n",
        "# Visualización de los datos de interés\n",
        "print(caudales_medios[['Fecha', 'Valor']])\n",
        "\n",
        "# Ordenar los caudales de mayor a menor\n",
        "caudales_descendente = caudales_medios.sort_values(by='Valor', ascending=False)\n",
        "\n",
        "print(caudales_descendente[['Fecha', 'Valor']])\n"
      ]
    },
    {
      "cell_type": "markdown",
      "source": [
        "### Crear una nueva columna en el archivo"
      ],
      "metadata": {
        "id": "c_tM_ndO1zE_"
      }
    },
    {
      "cell_type": "code",
      "source": [
        "# Generar una columna de porcentajes de excedencia\n",
        "\n",
        "#print(len(caudales_descendente))\n",
        "\n",
        "caudales_descendente['excedencia'] = np.arange(1, len(caudales_descendente) + 1) / len(caudales_descendente)\n",
        "\n",
        "print(caudales_descendente['excedencia'])\n",
        "\n"
      ],
      "metadata": {
        "colab": {
          "base_uri": "https://localhost:8080/"
        },
        "id": "Wf6P-CXx1149",
        "outputId": "17328fec-5cc5-44a9-f23a-e6a143431d5d"
      },
      "execution_count": null,
      "outputs": [
        {
          "output_type": "stream",
          "name": "stdout",
          "text": [
            "25401    0.000036\n",
            "25402    0.000071\n",
            "23209    0.000107\n",
            "23208    0.000143\n",
            "25400    0.000179\n",
            "           ...   \n",
            "72       0.999857\n",
            "69       0.999893\n",
            "73       0.999929\n",
            "70       0.999964\n",
            "71       1.000000\n",
            "Name: excedencia, Length: 28000, dtype: float64\n"
          ]
        }
      ]
    },
    {
      "cell_type": "markdown",
      "source": [
        "### Construcción de Curva de Duración de Caudales"
      ],
      "metadata": {
        "id": "GM1m0TDx2ZmP"
      }
    },
    {
      "cell_type": "code",
      "source": [
        "# Construcción de la curva de duración de caudales\n",
        "plt.figure(figsize=(10, 6))\n",
        "plt.plot(caudales_descendente['excedencia'], caudales_descendente['Valor'], marker='o', linestyle='-')\n",
        "plt.xlabel('Porcentaje de Excedencia')\n",
        "plt.ylabel('Caudal (m³/s)')\n",
        "plt.title('Curva de Duración de Caudales')\n",
        "plt.grid(True)\n",
        "plt.show()"
      ],
      "metadata": {
        "colab": {
          "base_uri": "https://localhost:8080/",
          "height": 563
        },
        "id": "e2WhNj662aI0",
        "outputId": "a2f9f814-ea44-4d7a-8f32-502adbc98dc6"
      },
      "execution_count": null,
      "outputs": [
        {
          "output_type": "display_data",
          "data": {
            "text/plain": [
              "<Figure size 1000x600 with 1 Axes>"
            ],
            "image/png": "[encoded data removed]"
          },
          "metadata": {}
        }
      ]
    },
    {
      "cell_type": "markdown",
      "source": [
        "### Cálculo del \"Q95\"\n",
        "\n",
        "En Ingeniería Ambiental, es muy usual utilizar el denominado Q95, o caudal de excedencia del 95% del tiempo. Representa un caudal que se presenta con un valor igual o mayor, o durante determinado tiempo (una probabiidad del 95% del tiempo), es decir, muy probable. Se utiliza para evaluar condiciones de calidad del agua, o límites de utilización del agua en un río."
      ],
      "metadata": {
        "id": "Kke5tCQn5bXh"
      }
    },
    {
      "cell_type": "code",
      "source": [],
      "metadata": {
        "id": "7-K13joqDKuw"
      },
      "execution_count": null,
      "outputs": []
    },
    {
      "cell_type": "code",
      "source": [
        "# Cálculo de Q95\n",
        "Q95 = np.percentile(caudales_descendente['Valor'], 5) ##Se toma 5, porque los datos están en descendente.\n",
        "print('El caudal Q95 (excedido el 95% del tiempo) es:', Q95, 'm³/s')\n",
        "\n",
        "# Crear la figura y los ejes\n",
        "plt.figure(figsize=(10, 6))\n",
        "\n",
        "plt.plot(caudales_descendente['excedencia'], caudales_descendente['Valor'], marker='o', linestyle='-', label='Curva de Duración')\n",
        "\n",
        "# Ajustar límites para que empiecen en cero\n",
        "plt.xlim(left=0)\n",
        "plt.ylim(bottom=0)\n",
        "\n",
        "# Recalcular los límites del gráfico después de ajustar\n",
        "xlim = plt.gca().get_xlim()\n",
        "ylim = plt.gca().get_ylim()\n",
        "\n",
        "\n",
        "plt.plot([0.95, 0.95], [ylim[0], Q95], color='r', linestyle='--', label=f'Q95 ({Q95:.2f} m³/s)')\n",
        "plt.plot([xlim[0], 0.95], [Q95, Q95], color='b', linestyle='--', label=f'Caudal Q95 ({Q95:.2f} m³/s)')\n",
        "\n",
        "plt.xlabel('Porcentaje de Excedencia')\n",
        "plt.ylabel('Caudal (m³/s)')\n",
        "plt.title('Curva de Duración de Caudales y Q95')\n",
        "plt.legend()\n",
        "plt.grid(True)\n",
        "\n",
        "plt.show()\n"
      ],
      "metadata": {
        "colab": {
          "base_uri": "https://localhost:8080/",
          "height": 582
        },
        "id": "8Gh4Y3aj9Ue2",
        "outputId": "a60e799e-f9e8-498d-c6ad-a09fd5fc63ed"
      },
      "execution_count": null,
      "outputs": [
        {
          "output_type": "stream",
          "name": "stdout",
          "text": [
            "El caudal Q95 (excedido el 95% del tiempo) es: 621.475 m³/s\n"
          ]
        },
        {
          "output_type": "display_data",
          "data": {
            "text/plain": [
              "<Figure size 1000x600 with 1 Axes>"
            ],
            "image/png": "[encoded data removed]"
          },
          "metadata": {}
        }
      ]
    },
    {
      "cell_type": "markdown",
      "source": [
        "## **Segunda Parte del Taller: PRONÓSTICO DE EVENTOS EXTERMOS**\n",
        "\n",
        "1.   Carga de datos\n",
        "2.   Carga de datos desde Google Drive\n",
        "3.   Construcción de la Curva de Duración de Caudales"
      ],
      "metadata": {
        "id": "pkuQU2KRnytE"
      }
    },
    {
      "cell_type": "code",
      "source": [
        "# Carga de Liberías\n",
        "\n",
        "import numpy as np\n",
        "import scipy.stats as stats\n",
        "import pandas as pd\n",
        "\n",
        "\n",
        "### Ejercicio:\n",
        "\n",
        "Q_a = 7500  # m³/s\n",
        "P_r = 60    # años\n",
        "\n",
        "### Carga de Datos\n",
        "\n",
        "# Registro de caudales\n",
        "\n",
        "datos = {\n",
        "    'Año': [1954, 1955, 1956, 1957, 1958 ,1959, 1960, 1961, 1962, 1963, 1964, 1965, 1966, 1967, 1968, 1969, 1970, 1971, 1972, 1973, 1974, 1975, 1976, 1977, 1978],\n",
        "    'Caudal': [2230, 3220, 2246, 1804, 2737, 2070, 3682, 4240, 2367, 7061, 2489, 2350, 3706, 2675, 6267, 5971, 4744, 6000, 4060, 6900, 5565, 3130, 2414, 1796, 7430]\n",
        "}\n",
        "\n",
        "## Número de años analizados\n",
        "\n",
        "n = len(datos['Año'])\n",
        "\n",
        "print('Número de años analizados', n, 'años')\n",
        "\n",
        "# Crear un DataFrame de pandas o paquete de datos\n",
        "caudales = pd.DataFrame(datos)\n",
        "\n",
        "# Mostrar los caudales\n",
        "print(caudales)"
      ],
      "metadata": {
        "colab": {
          "base_uri": "https://localhost:8080/"
        },
        "collapsed": true,
        "id": "BsidqKEBYaaA",
        "outputId": "547dbc9a-2ee2-492a-a46e-d5d93b5c0917"
      },
      "execution_count": null,
      "outputs": [
        {
          "output_type": "stream",
          "name": "stdout",
          "text": [
            "Número de años analizados 25 años\n",
            "     Año  Caudal\n",
            "0   1954    2230\n",
            "1   1955    3220\n",
            "2   1956    2246\n",
            "3   1957    1804\n",
            "4   1958    2737\n",
            "5   1959    2070\n",
            "6   1960    3682\n",
            "7   1961    4240\n",
            "8   1962    2367\n",
            "9   1963    7061\n",
            "10  1964    2489\n",
            "11  1965    2350\n",
            "12  1966    3706\n",
            "13  1967    2675\n",
            "14  1968    6267\n",
            "15  1969    5971\n",
            "16  1970    4744\n",
            "17  1971    6000\n",
            "18  1972    4060\n",
            "19  1973    6900\n",
            "20  1974    5565\n",
            "21  1975    3130\n",
            "22  1976    2414\n",
            "23  1977    1796\n",
            "24  1978    7430\n"
          ]
        }
      ]
    },
    {
      "cell_type": "code",
      "source": [
        "## Ordenar datos en un nuevo data frame\n",
        "\n",
        "# Creación de un nuevo dataframe de pandas:\n",
        "\n",
        "  # Ordenar los datos de Caudal de mayor a menor\n",
        "\n",
        "Caudal_desc = caudales['Caudal'].sort_values(ascending=False).reset_index(drop=True)\n",
        "\n",
        "  # Crear una numeración\n",
        "numeracion = pd.Series(range(1, len(Caudal_desc) + 1))\n",
        "\n",
        "  # Crear el nuevo DataFrame\n",
        "\n",
        "serie = pd.DataFrame({\n",
        "    'Numer': numeracion,\n",
        "    'Caudal': Caudal_desc\n",
        "})\n",
        "\n",
        "# Verificar el nuevo DataFrame\n",
        "print(serie)"
      ],
      "metadata": {
        "colab": {
          "base_uri": "https://localhost:8080/"
        },
        "collapsed": true,
        "id": "iZndBcrDarKh",
        "outputId": "6266b4a0-b08a-4c51-937c-07071da7ffc4"
      },
      "execution_count": null,
      "outputs": [
        {
          "output_type": "stream",
          "name": "stdout",
          "text": [
            "    Numer  Caudal\n",
            "0       1    7430\n",
            "1       2    7061\n",
            "2       3    6900\n",
            "3       4    6267\n",
            "4       5    6000\n",
            "5       6    5971\n",
            "6       7    5565\n",
            "7       8    4744\n",
            "8       9    4240\n",
            "9      10    4060\n",
            "10     11    3706\n",
            "11     12    3682\n",
            "12     13    3220\n",
            "13     14    3130\n",
            "14     15    2737\n",
            "15     16    2675\n",
            "16     17    2489\n",
            "17     18    2414\n",
            "18     19    2367\n",
            "19     20    2350\n",
            "20     21    2246\n",
            "21     22    2230\n",
            "22     23    2070\n",
            "23     24    1804\n",
            "24     25    1796\n"
          ]
        }
      ]
    },
    {
      "cell_type": "code",
      "source": [
        "## Aplicación de Funciones de Distribución de Probabilidad\n",
        "\n",
        " # FUNCIÓN DE DISTRIBUCIÓN DE PROBABILIDAD NORMAL\n",
        "\n",
        "print('FUNCIÓN NORMAL:')\n",
        "\n",
        "print('   - PARÁMETROS:')\n",
        "\n",
        "       # Parámetro mu (Media aritmética)\n",
        "\n",
        "mu_norm = serie['Caudal'].mean()\n",
        "print(\"mu = \", mu_norm, 'm³/s')\n",
        "\n",
        "       # Parámetro sigma (Desviación Estándar)\n",
        "\n",
        "sigma_norm = serie['Caudal'].std()\n",
        "print(\"sigma = \", sigma_norm, 'm³/s')\n",
        "\n",
        "       # Variable estandarizada, z, para un caudal de 7500 m³/s\n",
        "\n",
        "x = Q_a\n",
        "\n",
        "z_nomr = (x - mu_norm) / sigma_norm\n",
        "print(\"z = \", z_nomr)\n",
        "\n",
        "print('     A) PROBABILIDAD DE QUE EN UN AÑO CUALQUIERA EL CAUDAL SEA MAYOR O IGUAL A', Q_a, 'm³/s')\n",
        "\n",
        "      # Probabilidad de ocurrencia (Probabilidad de que el caudal máximo sea mayor o igual a 7500)\n",
        "\n",
        "p_norm = stats.norm.cdf(z_nomr)\n",
        "\n",
        "print('        La probabilidad de ocurrencia de un caudal igual o mayor a ', Q_a, 'm³/s es : p = ', p_norm)\n",
        "\n",
        "      # Probabilidad de ocurrencia en años (Probabilidad de que el caudal máximo sea mayor o igual a 7500)\n",
        "\n",
        "T_norm = 1 / (1-p_norm)\n",
        "\n",
        "print('        Es probable que cada', T, 'años se registre un caudal igual o superior a ', Q_a, \"m³/s (T = \", T_norm, \"años)\")\n",
        "\n",
        "print('     B) EL CAUDAL DE DISEÑO PARA UN PERIODO DE RETORNO DE ', P_r, 'AÑOS:')\n",
        "\n",
        "p_d = (P_r-1) / P_r\n",
        "\n",
        "z_r = stats.norm.ppf(p_d)\n",
        "\n",
        "print('        z = ', z_r)\n",
        "\n",
        "x_r_norm = mu_norm + sigma_norm * z_r\n",
        "\n",
        "print('        La probabiliad de un periodo de retorno de diseño de ', P_r, 'años es :', p_d)\n",
        "\n",
        "print('        Por lo tanto, el caudal de diseño para un periodo de retorno de ', P_r, 'años es :', x_r_norm, ' años')\n",
        "\n"
      ],
      "metadata": {
        "colab": {
          "base_uri": "https://localhost:8080/"
        },
        "collapsed": true,
        "id": "2etk5VL_hAUX",
        "outputId": "ed5d0df3-7227-468a-e797-d522f62af995"
      },
      "execution_count": null,
      "outputs": [
        {
          "output_type": "stream",
          "name": "stdout",
          "text": [
            "FUNCIÓN NORMAL:\n",
            "   - PARÁMETROS:\n",
            "mu =  3886.16 m³/s\n",
            "sigma =  1825.9065255373835 m³/s\n",
            "z =  1.9792031790545297\n",
            "     A) PROBABILIDAD DE QUE EN UN AÑO CUALQUIERA EL CAUDAL SEA MAYOR O IGUAL A 7500 m³/s\n",
            "        La probabilidad de ocurrencia de un caudal igual o mayor a  7500 m³/s es : p =  0.9761034324251197\n",
            "        Es probable que cada 20.291954177440186 años se registre un caudal igual o superior a  7500 m³/s (T =  41.84701408963782 años)\n",
            "     B) EL CAUDAL DE DISEÑO PARA UN PERIODO DE RETORNO DE  60 AÑOS:\n",
            "        z =  2.128045234184983\n",
            "        La probabiliad de un periodo de retorno de diseño de  60 años es : 0.9833333333333333\n",
            "        Por lo tanto, el caudal de diseño para un periodo de retorno de  60 años es : 7771.77167973709  años\n"
          ]
        }
      ]
    },
    {
      "cell_type": "code",
      "source": [
        "import math\n",
        "\n",
        " # FUNCIÓN DE DISTRIBUCIÓN DE PROBABILIDAD LOG-NORMAL\n",
        "\n",
        "print('FUNCIÓN LOG-NORMAL:')\n",
        "\n",
        "print('   - PARÁMETROS:')\n",
        "\n",
        "       # Serie_Logarítmica (Logaritmo de los datos)\n",
        "\n",
        "serie_log= np.log(serie['Caudal'])\n",
        "#print(serie_log)\n",
        "\n",
        "       # Parámetro mu (Media aritmética)\n",
        "\n",
        "alfa_log_norm = serie_log.mean()\n",
        "print(\"alfa = \", alfa_log_norm)\n",
        "\n",
        "       # Parámetro sigma (Desviación Estándar)\n",
        "\n",
        "beta_log_norm = serie_log.std()\n",
        "print(\"beta = \", beta_log_norm)\n",
        "\n",
        "       # Variable estandarizada, z, para un caudal de 7500 m³/s\n",
        "\n",
        "x_log = math.log(Q_a)\n",
        "print(\"x_log = \", x_log)\n",
        "\n",
        "z_log_nomr = (x_log - alfa_log_norm) / beta_log_norm\n",
        "print(\"z = \", z_log_nomr)\n",
        "\n",
        "print('     A) PROBABILIDAD DE QUE EN UN AÑO CUALQUIERA EL CAUDAL SEA MAYOR O IGUAL A', Q_a, 'm³/s')\n",
        "\n",
        "      # Probabilidad de ocurrencia (Probabilidad de que el caudal máximo sea mayor o igual a 7500)\n",
        "\n",
        "p_log_norm = stats.norm.cdf(z_log_nomr)\n",
        "\n",
        "print('        La probabilidad de ocurrencia de un caudal igual o mayor a ', Q_a, 'm³/s es : p = ', p_log_norm)\n",
        "\n",
        "      # Probabilidad de ocurrencia en años (Probabilidad de que el caudal máximo sea mayor o igual a 7500)\n",
        "\n",
        "T_log_norm = 1 / (1-p_log_norm)\n",
        "\n",
        "print('        Es probable que cada', T, 'años se registre un caudal igual o superior a ', Q_a, \"m³/s (T = \", T_log_norm, \"años)\")\n",
        "\n",
        "print('     B) EL CAUDAL DE DISEÑO PARA UN PERIODO DE RETORNO DE ', P_r, 'AÑOS:')\n",
        "\n",
        "p_d = (P_r-1) / P_r\n",
        "\n",
        "z_r_log = stats.norm.ppf(p_d)\n",
        "\n",
        "print('        z = ', z_r_log)\n",
        "\n",
        "x_r_log = math.exp(z_r_log * beta_log_norm + alfa_log_norm)\n",
        "\n",
        "print('        La probabiliad de un periodo de retorno de diseño de ', P_r, 'años es :', p_d)\n",
        "\n",
        "print('        Por lo tanto, el caudal de diseño para un periodo de retorno de ', P_r, 'años es :', x_r_log, ' años')\n",
        "\n"
      ],
      "metadata": {
        "colab": {
          "base_uri": "https://localhost:8080/"
        },
        "collapsed": true,
        "id": "dou6gtDgqeMn",
        "outputId": "4bf3bfcb-bfca-4552-b098-f583fb77963d"
      },
      "execution_count": null,
      "outputs": [
        {
          "output_type": "stream",
          "name": "stdout",
          "text": [
            "FUNCIÓN LOG-NORMAL:\n",
            "   - PARÁMETROS:\n",
            "alfa =  8.162268844290402\n",
            "beta =  0.46032063940992135\n",
            "x_log =  8.922658299524402\n",
            "z =  1.6518691323698467\n",
            "     A) PROBABILIDAD DE QUE EN UN AÑO CUALQUIERA EL CAUDAL SEA MAYOR O IGUAL A 7500 m³/s\n",
            "        La probabilidad de ocurrencia de un caudal igual o mayor a  7500 m³/s es : p =  0.9507193840841726\n",
            "        Es probable que cada 20.291954177440186 años se registre un caudal igual o superior a  7500 m³/s (T =  20.291954177440186 años)\n",
            "     B) EL CAUDAL DE DISEÑO PARA UN PERIODO DE RETORNO DE  60 AÑOS:\n",
            "        z =  2.128045234184983\n",
            "        La probabiliad de un periodo de retorno de diseño de  60 años es : 0.9833333333333333\n",
            "        Por lo tanto, el caudal de diseño para un periodo de retorno de  60 años es : 9338.04306371302  años\n"
          ]
        }
      ]
    },
    {
      "cell_type": "code",
      "source": [
        "import scipy.stats as st\n",
        "\n",
        " # FUNCIÓN DE DISTRIBUCIÓN DE PROBABILIDAD GUMBEL\n",
        "\n",
        "print('FUNCIÓN GUMBEL:')\n",
        "\n",
        "print('   - PARÁMETROS:')\n",
        "\n",
        "       # Características de los datos\n",
        "\n",
        "N = len(serie['Caudal'])\n",
        "print('Número de datos', N)\n",
        "\n",
        "Media = serie['Caudal'].mean()\n",
        "print(\"Media = \", Media)\n",
        "\n",
        "Desviacion = serie['Caudal'].std()\n",
        "print(\"Desviación = \", Desviacion)\n",
        "\n",
        "       # Ajuste a Función Gumbel\n",
        "\n",
        "yi = [-np.log(np.log((N + 1) / (j + 1))) for j in range(N)]\n",
        "\n",
        "       # Paráemtros de la función Gumbel\n",
        "\n",
        "mu_gumbel = np.mean(yi)\n",
        "sigma_gumbel = np.std(yi, ddof=0)\n",
        "alfa_gumbel = sigma_gumbel/Desviacion\n",
        "beta_gumbel = Media - (mu_gumbel/alfa_gumbel)\n",
        "\n",
        "print(\"Parámetro de ubicación (mu):\", mu_gumbel)\n",
        "print(\"Parámetro de escala (sigma):\", sigma_gumbel)\n",
        "print(\"Parámetro alfa = \", alfa_gumbel)\n",
        "print(\"Parámetro beta = \", beta_gumbel)\n",
        "\n",
        "print('     A) PROBABILIDAD DE QUE EN UN AÑO CUALQUIERA EL CAUDAL SEA MAYOR O IGUAL A', Q_a, 'm³/s')\n",
        "\n",
        "      # Probabilidad de ocurrencia (Probabilidad de que el caudal máximo sea mayor o igual a 7500)\n",
        "\n",
        "p_gumbel = math.exp(-math.exp(-alfa_gumbel * (Q_a - beta_gumbel)))\n",
        "\n",
        "print('        La probabilidad de ocurrencia de un caudal igual o mayor a ', Q_a, 'm³/s es : p = ', p_gumbel)\n",
        "\n",
        "      # Probabilidad de ocurrencia en años (Probabilidad de que el caudal máximo sea mayor o igual a 7500)\n",
        "\n",
        "T_gumbel = 1 / (1-p_log_norm)\n",
        "\n",
        "print('        Es probable que cada', T, 'años se registre un caudal igual o superior a ', Q_a, \"m³/s (T = \", T_gumbel, \"años)\")\n",
        "\n",
        "print('     B) EL CAUDAL DE DISEÑO PARA UN PERIODO DE RETORNO DE ', P_r, 'AÑOS:')\n",
        "\n",
        "p_d = (P_r-1) / P_r\n",
        "\n",
        "x_r_gumbel = beta_gumbel - (1/alfa_gumbel) * math.log(math.log(P_r/(P_r-1)))\n",
        "\n",
        "print('        La probabiliad de un periodo de retorno de diseño de ', P_r, 'años es :', p_d)\n",
        "\n",
        "print('        Por lo tanto, el caudal de diseño para un periodo de retorno de ', P_r, 'años es :', x_r_gumbel, ' años')\n",
        "\n"
      ],
      "metadata": {
        "colab": {
          "base_uri": "https://localhost:8080/"
        },
        "collapsed": true,
        "id": "g1sNCBTGxR-j",
        "outputId": "3caaa0a0-2cb4-409f-94be-1c197d141c6d"
      },
      "execution_count": null,
      "outputs": [
        {
          "output_type": "stream",
          "name": "stdout",
          "text": [
            "FUNCIÓN GUMBEL:\n",
            "   - PARÁMETROS:\n",
            "Número de datos 25\n",
            "Media =  3886.16\n",
            "Desviación =  1825.9065255373835\n",
            "Parámetro de ubicación (mu): 0.530863915632092\n",
            "Parámetro de escala (sigma): 1.0914456186714752\n",
            "Parámetro alfa =  0.0005977554729151599\n",
            "Parámetro beta =  2998.0645501279114\n",
            "     A) PROBABILIDAD DE QUE EN UN AÑO CUALQUIERA EL CAUDAL SEA MAYOR O IGUAL A 7500 m³/s\n",
            "        La probabilidad de ocurrencia de un caudal igual o mayor a  7500 m³/s es : p =  0.9344386938670165\n",
            "        Es probable que cada 20.291954177440186 años se registre un caudal igual o superior a  7500 m³/s (T =  20.291954177440186 años)\n",
            "     B) EL CAUDAL DE DISEÑO PARA UN PERIODO DE RETORNO DE  60 AÑOS:\n",
            "        La probabiliad de un periodo de retorno de diseño de  60 años es : 0.9833333333333333\n",
            "        Por lo tanto, el caudal de diseño para un periodo de retorno de  60 años es : 9833.556583479622  años\n"
          ]
        }
      ]
    },
    {
      "cell_type": "code",
      "source": [
        "#Resumen de resultados:\n",
        "\n",
        "resumen_resultados = {\n",
        "    'Función': ['Normal', 'Log-Normal', 'Gumbel'],\n",
        "    'Prob de Ocurrencia': [p_norm, p_log_norm, p_gumbel],\n",
        "    'Prob en Años': [T_norm, T_log_norm, T_gumbel],\n",
        "    'Caudal de Diseño': [x_r_norm, x_r_log, x_r_gumbel]\n",
        "}\n",
        "\n",
        "# Crear un DataFrame de los resultados\n",
        "\n",
        "resultados = pd.DataFrame(resumen_resultados)\n",
        "\n",
        "# Mostrar los resultados\n",
        "print(resultados)"
      ],
      "metadata": {
        "colab": {
          "base_uri": "https://localhost:8080/"
        },
        "id": "OBc2WNkR9mgl",
        "outputId": "a456988f-5c79-4d1d-dbf6-fb70c38ea44f"
      },
      "execution_count": null,
      "outputs": [
        {
          "output_type": "stream",
          "name": "stdout",
          "text": [
            "      Función  Prob de Ocurrencia  Prob en Años  Caudal de Diseño\n",
            "0      Normal            0.976103     41.847014       7771.771680\n",
            "1  Log-Normal            0.950719     20.291954       9338.043064\n",
            "2      Gumbel            0.934439     20.291954       9833.556583\n"
          ]
        }
      ]
    },
    {
      "cell_type": "markdown",
      "source": [
        "# PRUEBAS DE BONDAD DE AJUSTE\n",
        "\n",
        "# Método del error cuadrático mínimo"
      ],
      "metadata": {
        "id": "DAwBdDZncOdX"
      }
    },
    {
      "cell_type": "code",
      "source": [
        "## Cálculo de caudales Ajustados a las FDP\n",
        "\n",
        "# Creación de un nuevo dataframe de pandas\n",
        "\n",
        "  # Número de años en la serie original\n",
        "\n",
        "N = len(serie['Caudal'])\n",
        "print('Número de años en la serie original:',N)\n",
        "\n",
        "  # Cálculo de periodos de retorno\n",
        "\n",
        "m = pd.Series(range(1, N + 1))\n",
        "T = (N + 1) / m\n",
        "teoric_p = 1 - (m / (N + 1))\n",
        "\n",
        "# Crear un DataFrame que contenga todas las series\n",
        "Caudales_ajustados = pd.DataFrame({\n",
        "    'm': m,\n",
        "    'T (años)': T,\n",
        "    'P Teórica': teoric_p\n",
        "})\n",
        "\n",
        "print(Caudales_ajustados)"
      ],
      "metadata": {
        "colab": {
          "base_uri": "https://localhost:8080/"
        },
        "id": "SRjR8rtjcdzq",
        "outputId": "ca301ca0-987d-4306-8921-1e08929367c5"
      },
      "execution_count": null,
      "outputs": [
        {
          "output_type": "stream",
          "name": "stdout",
          "text": [
            "Número de años en la serie original: 25\n",
            "     m   T (años)  P Teórica\n",
            "0    1  26.000000   0.961538\n",
            "1    2  13.000000   0.923077\n",
            "2    3   8.666667   0.884615\n",
            "3    4   6.500000   0.846154\n",
            "4    5   5.200000   0.807692\n",
            "5    6   4.333333   0.769231\n",
            "6    7   3.714286   0.730769\n",
            "7    8   3.250000   0.692308\n",
            "8    9   2.888889   0.653846\n",
            "9   10   2.600000   0.615385\n",
            "10  11   2.363636   0.576923\n",
            "11  12   2.166667   0.538462\n",
            "12  13   2.000000   0.500000\n",
            "13  14   1.857143   0.461538\n",
            "14  15   1.733333   0.423077\n",
            "15  16   1.625000   0.384615\n",
            "16  17   1.529412   0.346154\n",
            "17  18   1.444444   0.307692\n",
            "18  19   1.368421   0.269231\n",
            "19  20   1.300000   0.230769\n",
            "20  21   1.238095   0.192308\n",
            "21  22   1.181818   0.153846\n",
            "22  23   1.130435   0.115385\n",
            "23  24   1.083333   0.076923\n",
            "24  25   1.040000   0.038462\n"
          ]
        }
      ]
    },
    {
      "cell_type": "code",
      "source": [
        "  # Cálculo de Datos Ajustados a Función Normal\n",
        "serie_z_norm = pd.Series(stats.norm.ppf(teoric_p))\n",
        "norm_a = pd.Series(serie_z_norm*sigma_norm + mu_norm)\n",
        "#print(norm_a)\n",
        "\n",
        "  # Cálculo de Datos Ajustados a Función Normal\n",
        "serie_z_log_norm = pd.Series(stats.norm.ppf(teoric_p))\n",
        "log_norm_a = (pd.Series(np.exp(serie_z_norm*beta_log_norm + alfa_log_norm)))\n",
        "#print(log_norm_a)\n",
        "  # Cálculo de Datos Ajustados a Función Gumbel\n",
        "gumbel_a = beta_gumbel - (1/alfa_gumbel) * np.log(np.log(1/teoric_p))\n",
        "#print(gumbel_a)\n",
        "\n",
        "Caudales_ajustados['Ajus Norm'] = norm_a\n",
        "Caudales_ajustados['Ajus LogNor'] = log_norm_a\n",
        "Caudales_ajustados['Ajus Gumbel'] = gumbel_a\n",
        "\n",
        "print(Caudales_ajustados)"
      ],
      "metadata": {
        "colab": {
          "base_uri": "https://localhost:8080/"
        },
        "id": "sq7GHN_9oqtw",
        "outputId": "66d19fa9-4fba-4af4-b3b2-ec37fabb82ad"
      },
      "execution_count": null,
      "outputs": [
        {
          "output_type": "stream",
          "name": "stdout",
          "text": [
            "     m   T (años)  P Teórica    Ajus Norm  Ajus LogNor  Ajus Gumbel\n",
            "0    1  26.000000   0.961538  7115.869180  7914.846013  8415.915865\n",
            "1    2  13.000000   0.923077  6490.043067  6759.616671  7222.525982\n",
            "2    3   8.666667   0.884615  6074.289319  6086.982510  6509.214862\n",
            "3    4   6.500000   0.846154  5748.723850  5607.335824  5991.659322\n",
            "4    5   5.200000   0.807692  5473.646541  5231.652912  5580.678181\n",
            "5    6   4.333333   0.769231  5230.604038  4920.720580  5236.473865\n",
            "6    7   3.714286   0.730769  5009.350157  4653.761009  4937.743094\n",
            "7    8   3.250000   0.692308  4803.499498  4418.409007  4671.692892\n",
            "8    9   2.888889   0.653846  4608.717400  4206.681466  4429.989517\n",
            "9   10   2.600000   0.615385  4421.846706  4013.095954  4206.852969\n",
            "10  11   2.363636   0.576923  4240.437251  3833.693596  3998.060004\n",
            "11  12   2.166667   0.538462  4062.467006  3665.488040  3800.377015\n",
            "12  13   2.000000   0.500000  3886.160000  3506.132455  3611.213132\n",
            "13  14   1.857143   0.461538  3709.852994  3353.704788  3428.392036\n",
            "14  15   1.733333   0.423077  3531.882749  3206.559023  3249.988446\n",
            "15  16   1.625000   0.384615  3350.473294  3063.212277  3074.196914\n",
            "16  17   1.529412   0.346154  3163.602600  2922.247594  2899.209455\n",
            "17  18   1.444444   0.307692  2968.820502  2782.215221  2723.079272\n",
            "18  19   1.368421   0.269231  2762.969843  2641.511837  2543.539652\n",
            "19  20   1.300000   0.230769  2541.715962  2498.204194  2357.723276\n",
            "20  21   1.238095   0.192308  2298.673459  2349.728661  2161.665678\n",
            "21  22   1.181818   0.153846  2023.596150  2192.300440  1949.305106\n",
            "22  23   1.130435   0.115385  1698.030681  2019.549879  1710.130847\n",
            "23  24   1.083333   0.076923  1282.276933  1818.589040  1422.271810\n",
            "24  25   1.040000   0.038462   656.450820  1553.152743  1022.100809\n"
          ]
        }
      ]
    }
  ]
}