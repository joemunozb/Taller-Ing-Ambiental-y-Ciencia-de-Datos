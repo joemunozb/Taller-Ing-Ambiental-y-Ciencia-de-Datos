{
  "nbformat": 4,
  "nbformat_minor": 0,
  "metadata": {
    "colab": {
      "provenance": [],
      "authorship_tag": "ABX9TyOShJ3ZFQRczB3po+3LOfRl",
      "include_colab_link": true
    },
    "kernelspec": {
      "name": "python3",
      "display_name": "Python 3"
    },
    "language_info": {
      "name": "python"
    }
  },
  "cells": [
    {
      "cell_type": "markdown",
      "metadata": {
        "id": "view-in-github",
        "colab_type": "text"
      },
      "source": [
        "<a href=\"https://colab.research.google.com/github/joemunozb/Taller-Ing-Ambiental-y-Ciencia-de-Datos/blob/main/Taller_Ing_Amb_y_Ciencia_Datos.ipynb\" target=\"_parent\"><img src=\"https://colab.research.google.com/assets/colab-badge.svg\" alt=\"Open In Colab\"/></a>"
      ]
    },
    {
      "cell_type": "markdown",
      "source": [
        "\n",
        "# **TALLER PRÁCTICO:**\n",
        "## **Introducción al análisis de datos Hidrológicos con Python**\n",
        "\\\n",
        "**Jorge Enrique Muñoz Barragán** \\\n",
        "jmunozb@ucentral.edu.co \\\n",
        "Docente \\\n",
        "Facultad de Ingeniería y Ciencias Básicas \\\n",
        "**Universidad Central**\n",
        "\n",
        "\n",
        "[Pregrado en Ingeniería Ambiental - Universidad Central](https://www.ucentral.edu.co/programa-academico/ingenieria-ambiental)\\\n",
        "direccionambiental@ucentral.edu.co \\\n",
        "[Pregrado en Ciencia de Datos - Universidad Central](https://www.ucentral.edu.co/programa-academico/ciencia-datos) \\\n",
        "cienciadedatos@ucentral.edu.co \\\n",
        "\n",
        "## **Primera Parte del Taller: CURVA DE DURACIÓN DE CAUDALES**\n",
        "\n",
        "1.   Curva de Duración de Caudales\n",
        "2.   Carga de datos desde Google Drive\n",
        "3.   Construcción de la Curva de Duración de Caudales\n",
        "\n",
        "\n",
        "\n"
      ],
      "metadata": {
        "id": "2a_2FDp_mf8Q"
      }
    },
    {
      "cell_type": "markdown",
      "source": [
        "### Instalación de Liberias"
      ],
      "metadata": {
        "id": "C8-vulEYtoVS"
      }
    },
    {
      "cell_type": "code",
      "source": [
        "# Instalación de librerías necesarias\n",
        "!pip install pandas numpy matplotlib scipy\n",
        "\n",
        "# Importación de librerías\n",
        "import pandas as pd\n",
        "import numpy as np\n",
        "import matplotlib.pyplot as plt"
      ],
      "metadata": {
        "id": "VYOV79Cttsyy",
        "collapsed": true
      },
      "execution_count": null,
      "outputs": []
    },
    {
      "cell_type": "markdown",
      "source": [
        "### Carga del Archivo\n"
      ],
      "metadata": {
        "id": "RrXVz2ojuSkh"
      }
    },
    {
      "cell_type": "code",
      "source": [
        "# @title\n",
        "# Autenticación y acceso a Google Drive\n",
        "from google.colab import drive\n",
        "drive.mount('/content/drive')\n",
        "\n",
        "# Ruta del archivo en Google Drive\n",
        "file_path = '/content/drive/My Drive/caudales_medios_diarios.csv'\n",
        "\n",
        "# Carga del archivo CSV\n",
        "caudales_medios = pd.read_csv(file_path)"
      ],
      "metadata": {
        "id": "LbmAVMnouOD8"
      },
      "execution_count": null,
      "outputs": []
    },
    {
      "cell_type": "markdown",
      "source": [
        "### Previsualizar los registros"
      ],
      "metadata": {
        "id": "ode1s6O-xnAJ"
      }
    },
    {
      "cell_type": "code",
      "execution_count": null,
      "metadata": {
        "id": "vqcwBZ7WmSAr"
      },
      "outputs": [],
      "source": [
        "# Visualización del archivo completo\n",
        "print(caudales_medios)\n",
        "\n",
        "# Visualización de los primeros registros\n",
        "print(caudales_medios.head())\n",
        "\n",
        "# Verificación de la estructura del DataFrame\n",
        "print(caudales_medios.info())\n",
        "\n",
        "# Visualización de los datos de interés\n",
        "print(caudales_medios[['Fecha', 'Valor']])\n",
        "\n",
        "# Ordenar los caudales de mayor a menor\n",
        "caudales_descendente = caudales_medios.sort_values(by='Valor', ascending=False)\n",
        "\n",
        "print(caudales_descendente[['Fecha', 'Valor']])\n"
      ]
    },
    {
      "cell_type": "markdown",
      "source": [
        "### Crear una nueva columna en el archivo"
      ],
      "metadata": {
        "id": "c_tM_ndO1zE_"
      }
    },
    {
      "cell_type": "code",
      "source": [
        "# Generar una columna de porcentajes de excedencia\n",
        "\n",
        "#print(len(caudales_descendente))\n",
        "\n",
        "caudales_descendente['excedencia'] = np.arange(1, len(caudales_descendente) + 1) / len(caudales_descendente)\n",
        "\n",
        "print(caudales_descendente['excedencia'])\n",
        "\n"
      ],
      "metadata": {
        "id": "Wf6P-CXx1149"
      },
      "execution_count": null,
      "outputs": []
    },
    {
      "cell_type": "markdown",
      "source": [
        "### Construcción de Curva de Duración de Caudales"
      ],
      "metadata": {
        "id": "GM1m0TDx2ZmP"
      }
    },
    {
      "cell_type": "code",
      "source": [
        "# Construcción de la curva de duración de caudales\n",
        "plt.figure(figsize=(10, 6))\n",
        "plt.plot(caudales_descendente['excedencia'], caudales_descendente['Valor'], marker='o', linestyle='-')\n",
        "plt.xlabel('Porcentaje de Excedencia')\n",
        "plt.ylabel('Caudal (m³/s)')\n",
        "plt.title('Curva de Duración de Caudales')\n",
        "plt.grid(True)\n",
        "plt.show()"
      ],
      "metadata": {
        "id": "e2WhNj662aI0"
      },
      "execution_count": null,
      "outputs": []
    },
    {
      "cell_type": "markdown",
      "source": [
        "### Cálculo del \"Q95\"\n",
        "\n",
        "En Ingeniería Ambiental, es muy usual utilizar el denominado Q95, o caudal de excedencia del 95% del tiempo. Representa un caudal que se presenta con un valor igual o mayor, o durante determinado tiempo (una probabiidad del 95% del tiempo), es decir, muy probable. Se utiliza para evaluar condiciones de calidad del agua, o límites de utilización del agua en un río."
      ],
      "metadata": {
        "id": "Kke5tCQn5bXh"
      }
    },
    {
      "cell_type": "code",
      "source": [],
      "metadata": {
        "id": "7-K13joqDKuw"
      },
      "execution_count": null,
      "outputs": []
    },
    {
      "cell_type": "code",
      "source": [
        "# Cálculo de Q95\n",
        "Q95 = np.percentile(caudales_descendente['Valor'], 5) ##Se toma 5, porque los datos están en descendente.\n",
        "print('El caudal Q95 (excedido el 95% del tiempo) es:', Q95, 'm³/s')\n",
        "\n",
        "# Crear la figura y los ejes\n",
        "plt.figure(figsize=(10, 6))\n",
        "\n",
        "plt.plot(caudales_descendente['excedencia'], caudales_descendente['Valor'], marker='o', linestyle='-', label='Curva de Duración')\n",
        "\n",
        "# Ajustar límites para que empiecen en cero\n",
        "plt.xlim(left=0)\n",
        "plt.ylim(bottom=0)\n",
        "\n",
        "# Recalcular los límites del gráfico después de ajustar\n",
        "xlim = plt.gca().get_xlim()\n",
        "ylim = plt.gca().get_ylim()\n",
        "\n",
        "\n",
        "plt.plot([0.95, 0.95], [ylim[0], Q95], color='r', linestyle='--', label=f'Q95 ({Q95:.2f} m³/s)')\n",
        "plt.plot([xlim[0], 0.95], [Q95, Q95], color='b', linestyle='--', label=f'Caudal Q95 ({Q95:.2f} m³/s)')\n",
        "\n",
        "plt.xlabel('Porcentaje de Excedencia')\n",
        "plt.ylabel('Caudal (m³/s)')\n",
        "plt.title('Curva de Duración de Caudales y Q95')\n",
        "plt.legend()\n",
        "plt.grid(True)\n",
        "\n",
        "plt.show()\n"
      ],
      "metadata": {
        "id": "8Gh4Y3aj9Ue2"
      },
      "execution_count": null,
      "outputs": []
    },
    {
      "cell_type": "markdown",
      "source": [
        "## **Segunda Parte del Taller: PRONÓSTICO DE EVENTOS EXTERMOS**\n",
        "\n",
        "1.   Carga de datos\n",
        "2.   Carga de datos desde Google Drive\n",
        "3.   Construcción de la Curva de Duración de Caudales"
      ],
      "metadata": {
        "id": "pkuQU2KRnytE"
      }
    },
    {
      "cell_type": "code",
      "source": [
        "# Carga de Liberías\n",
        "\n",
        "import numpy as np\n",
        "import scipy.stats as stats\n",
        "import pandas as pd\n",
        "\n",
        "\n",
        "### Ejercicio:\n",
        "\n",
        "Q_a = 7500  # m³/s\n",
        "P_r = 60    # años\n",
        "\n",
        "### Carga de Datos\n",
        "\n",
        "# Registro de caudales\n",
        "\n",
        "datos = {\n",
        "    'Año': [1954, 1955, 1956, 1957, 1958 ,1959, 1960, 1961, 1962, 1963, 1964, 1965, 1966, 1967, 1968, 1969, 1970, 1971, 1972, 1973, 1974, 1975, 1976, 1977, 1978],\n",
        "    'Caudal': [2230, 3220, 2246, 1804, 2737, 2070, 3682, 4240, 2367, 7061, 2489, 2350, 3706, 2675, 6267, 5971, 4744, 6000, 4060, 6900, 5565, 3130, 2414, 1796, 7430]\n",
        "}\n",
        "\n",
        "## Número de años analizados\n",
        "\n",
        "n = len(datos['Año'])\n",
        "\n",
        "print('Número de años analizados', n, 'años')\n",
        "\n",
        "# Crear un DataFrame de pandas o paquete de datos\n",
        "caudales = pd.DataFrame(datos)\n",
        "\n",
        "# Mostrar los caudales\n",
        "print(caudales)"
      ],
      "metadata": {
        "collapsed": true,
        "id": "BsidqKEBYaaA"
      },
      "execution_count": null,
      "outputs": []
    },
    {
      "cell_type": "code",
      "source": [
        "## Ordenar datos en un nuevo data frame\n",
        "\n",
        "# Creación de un nuevo dataframe de pandas:\n",
        "\n",
        "  # Ordenar los datos de Caudal de mayor a menor\n",
        "\n",
        "Caudal_desc = caudales['Caudal'].sort_values(ascending=False).reset_index(drop=True)\n",
        "\n",
        "  # Crear una numeración\n",
        "numeracion = pd.Series(range(1, len(Caudal_desc) + 1))\n",
        "\n",
        "  # Crear el nuevo DataFrame\n",
        "\n",
        "serie = pd.DataFrame({\n",
        "    'Numer': numeracion,\n",
        "    'Caudal': Caudal_desc\n",
        "})\n",
        "\n",
        "# Verificar el nuevo DataFrame\n",
        "print(serie)"
      ],
      "metadata": {
        "collapsed": true,
        "id": "iZndBcrDarKh"
      },
      "execution_count": null,
      "outputs": []
    },
    {
      "cell_type": "code",
      "source": [
        "## Aplicación de Funciones de Distribución de Probabilidad\n",
        "\n",
        " # FUNCIÓN DE DISTRIBUCIÓN DE PROBABILIDAD NORMAL\n",
        "\n",
        "print('FUNCIÓN NORMAL:')\n",
        "\n",
        "print('   - PARÁMETROS:')\n",
        "\n",
        "       # Parámetro mu (Media aritmética)\n",
        "\n",
        "mu_norm = serie['Caudal'].mean()\n",
        "print(\"mu = \", mu_norm, 'm³/s')\n",
        "\n",
        "       # Parámetro sigma (Desviación Estándar)\n",
        "\n",
        "sigma_norm = serie['Caudal'].std()\n",
        "print(\"sigma = \", sigma_norm, 'm³/s')\n",
        "\n",
        "       # Variable estandarizada, z, para un caudal de 7500 m³/s\n",
        "\n",
        "x = Q_a\n",
        "\n",
        "z_nomr = (x - mu_norm) / sigma_norm\n",
        "print(\"z = \", z_nomr)\n",
        "\n",
        "print('     A) PROBABILIDAD DE QUE EN UN AÑO CUALQUIERA EL CAUDAL SEA MAYOR O IGUAL A', Q_a, 'm³/s')\n",
        "\n",
        "      # Probabilidad de ocurrencia (Probabilidad de que el caudal máximo sea mayor o igual a 7500)\n",
        "\n",
        "p_norm = stats.norm.cdf(z_nomr)\n",
        "\n",
        "print('        La probabilidad de ocurrencia de un caudal igual o mayor a ', Q_a, 'm³/s es : p = ', p_norm)\n",
        "\n",
        "      # Probabilidad de ocurrencia en años (Probabilidad de que el caudal máximo sea mayor o igual a 7500)\n",
        "\n",
        "T_norm = 1 / (1-p_norm)\n",
        "\n",
        "print('        Es probable que cada', T, 'años se registre un caudal igual o superior a ', Q_a, \"m³/s (T = \", T_norm, \"años)\")\n",
        "\n",
        "print('     B) EL CAUDAL DE DISEÑO PARA UN PERIODO DE RETORNO DE ', P_r, 'AÑOS:')\n",
        "\n",
        "p_d = (P_r-1) / P_r\n",
        "\n",
        "z_r = stats.norm.ppf(p_d)\n",
        "\n",
        "print('        z = ', z_r)\n",
        "\n",
        "x_r_norm = mu_norm + sigma_norm * z_r\n",
        "\n",
        "print('        La probabiliad de un periodo de retorno de diseño de ', P_r, 'años es :', p_d)\n",
        "\n",
        "print('        Por lo tanto, el caudal de diseño para un periodo de retorno de ', P_r, 'años es :', x_r_norm, ' años')\n",
        "\n"
      ],
      "metadata": {
        "collapsed": true,
        "id": "2etk5VL_hAUX"
      },
      "execution_count": null,
      "outputs": []
    },
    {
      "cell_type": "code",
      "source": [
        "import math\n",
        "\n",
        " # FUNCIÓN DE DISTRIBUCIÓN DE PROBABILIDAD LOG-NORMAL\n",
        "\n",
        "print('FUNCIÓN LOG-NORMAL:')\n",
        "\n",
        "print('   - PARÁMETROS:')\n",
        "\n",
        "       # Serie_Logarítmica (Logaritmo de los datos)\n",
        "\n",
        "serie_log= np.log(serie['Caudal'])\n",
        "#print(serie_log)\n",
        "\n",
        "       # Parámetro mu (Media aritmética)\n",
        "\n",
        "alfa_log_norm = serie_log.mean()\n",
        "print(\"alfa = \", alfa_log_norm)\n",
        "\n",
        "       # Parámetro sigma (Desviación Estándar)\n",
        "\n",
        "beta_log_norm = serie_log.std()\n",
        "print(\"beta = \", beta_log_norm)\n",
        "\n",
        "       # Variable estandarizada, z, para un caudal de 7500 m³/s\n",
        "\n",
        "x_log = math.log(Q_a)\n",
        "print(\"x_log = \", x_log)\n",
        "\n",
        "z_log_nomr = (x_log - alfa_log_norm) / beta_log_norm\n",
        "print(\"z = \", z_log_nomr)\n",
        "\n",
        "print('     A) PROBABILIDAD DE QUE EN UN AÑO CUALQUIERA EL CAUDAL SEA MAYOR O IGUAL A', Q_a, 'm³/s')\n",
        "\n",
        "      # Probabilidad de ocurrencia (Probabilidad de que el caudal máximo sea mayor o igual a 7500)\n",
        "\n",
        "p_log_norm = stats.norm.cdf(z_log_nomr)\n",
        "\n",
        "print('        La probabilidad de ocurrencia de un caudal igual o mayor a ', Q_a, 'm³/s es : p = ', p_log_norm)\n",
        "\n",
        "      # Probabilidad de ocurrencia en años (Probabilidad de que el caudal máximo sea mayor o igual a 7500)\n",
        "\n",
        "T_log_norm = 1 / (1-p_log_norm)\n",
        "\n",
        "print('        Es probable que cada', T, 'años se registre un caudal igual o superior a ', Q_a, \"m³/s (T = \", T_log_norm, \"años)\")\n",
        "\n",
        "print('     B) EL CAUDAL DE DISEÑO PARA UN PERIODO DE RETORNO DE ', P_r, 'AÑOS:')\n",
        "\n",
        "p_d = (P_r-1) / P_r\n",
        "\n",
        "z_r_log = stats.norm.ppf(p_d)\n",
        "\n",
        "print('        z = ', z_r_log)\n",
        "\n",
        "x_r_log = math.exp(z_r_log * beta_log_norm + alfa_log_norm)\n",
        "\n",
        "print('        La probabiliad de un periodo de retorno de diseño de ', P_r, 'años es :', p_d)\n",
        "\n",
        "print('        Por lo tanto, el caudal de diseño para un periodo de retorno de ', P_r, 'años es :', x_r_log, ' años')\n",
        "\n"
      ],
      "metadata": {
        "collapsed": true,
        "id": "dou6gtDgqeMn"
      },
      "execution_count": null,
      "outputs": []
    },
    {
      "cell_type": "code",
      "source": [
        "import scipy.stats as st\n",
        "\n",
        " # FUNCIÓN DE DISTRIBUCIÓN DE PROBABILIDAD GUMBEL\n",
        "\n",
        "print('FUNCIÓN GUMBEL:')\n",
        "\n",
        "print('   - PARÁMETROS:')\n",
        "\n",
        "       # Características de los datos\n",
        "\n",
        "N = len(serie['Caudal'])\n",
        "print('Número de datos', N)\n",
        "\n",
        "Media = serie['Caudal'].mean()\n",
        "print(\"Media = \", Media)\n",
        "\n",
        "Desviacion = serie['Caudal'].std()\n",
        "print(\"Desviación = \", Desviacion)\n",
        "\n",
        "       # Ajuste a Función Gumbel\n",
        "\n",
        "yi = [-np.log(np.log((N + 1) / (j + 1))) for j in range(N)]\n",
        "\n",
        "       # Paráemtros de la función Gumbel\n",
        "\n",
        "mu_gumbel = np.mean(yi)\n",
        "sigma_gumbel = np.std(yi, ddof=0)\n",
        "alfa_gumbel = sigma_gumbel/Desviacion\n",
        "beta_gumbel = Media - (mu_gumbel/alfa_gumbel)\n",
        "\n",
        "print(\"Parámetro de ubicación (mu):\", mu_gumbel)\n",
        "print(\"Parámetro de escala (sigma):\", sigma_gumbel)\n",
        "print(\"Parámetro alfa = \", alfa_gumbel)\n",
        "print(\"Parámetro beta = \", beta_gumbel)\n",
        "\n",
        "print('     A) PROBABILIDAD DE QUE EN UN AÑO CUALQUIERA EL CAUDAL SEA MAYOR O IGUAL A', Q_a, 'm³/s')\n",
        "\n",
        "      # Probabilidad de ocurrencia (Probabilidad de que el caudal máximo sea mayor o igual a 7500)\n",
        "\n",
        "p_gumbel = math.exp(-math.exp(-alfa_gumbel * (Q_a - beta_gumbel)))\n",
        "\n",
        "print('        La probabilidad de ocurrencia de un caudal igual o mayor a ', Q_a, 'm³/s es : p = ', p_gumbel)\n",
        "\n",
        "      # Probabilidad de ocurrencia en años (Probabilidad de que el caudal máximo sea mayor o igual a 7500)\n",
        "\n",
        "T_gumbel = 1 / (1-p_log_norm)\n",
        "\n",
        "print('        Es probable que cada', T, 'años se registre un caudal igual o superior a ', Q_a, \"m³/s (T = \", T_gumbel, \"años)\")\n",
        "\n",
        "print('     B) EL CAUDAL DE DISEÑO PARA UN PERIODO DE RETORNO DE ', P_r, 'AÑOS:')\n",
        "\n",
        "p_d = (P_r-1) / P_r\n",
        "\n",
        "x_r_gumbel = beta_gumbel - (1/alfa_gumbel) * math.log(math.log(P_r/(P_r-1)))\n",
        "\n",
        "print('        La probabiliad de un periodo de retorno de diseño de ', P_r, 'años es :', p_d)\n",
        "\n",
        "print('        Por lo tanto, el caudal de diseño para un periodo de retorno de ', P_r, 'años es :', x_r_gumbel, ' años')\n",
        "\n"
      ],
      "metadata": {
        "collapsed": true,
        "id": "g1sNCBTGxR-j"
      },
      "execution_count": null,
      "outputs": []
    },
    {
      "cell_type": "code",
      "source": [
        "#Resumen de resultados:\n",
        "\n",
        "resumen_resultados = {\n",
        "    'Función': ['Normal', 'Log-Normal', 'Gumbel'],\n",
        "    'Prob de Ocurrencia': [p_norm, p_log_norm, p_gumbel],\n",
        "    'Prob en Años': [T_norm, T_log_norm, T_gumbel],\n",
        "    'Caudal de Diseño': [x_r_norm, x_r_log, x_r_gumbel]\n",
        "}\n",
        "\n",
        "# Crear un DataFrame de los resultados\n",
        "\n",
        "resultados = pd.DataFrame(resumen_resultados)\n",
        "\n",
        "# Mostrar los resultados\n",
        "print(resultados)"
      ],
      "metadata": {
        "id": "OBc2WNkR9mgl"
      },
      "execution_count": null,
      "outputs": []
    },
    {
      "cell_type": "markdown",
      "source": [
        "# PRUEBAS DE BONDAD DE AJUSTE\n",
        "\n",
        "# Método del error cuadrático mínimo"
      ],
      "metadata": {
        "id": "DAwBdDZncOdX"
      }
    },
    {
      "cell_type": "code",
      "source": [
        "## Cálculo de caudales Ajustados a las FDP\n",
        "\n",
        "# Creación de un nuevo dataframe de pandas\n",
        "\n",
        "  # Número de años en la serie original\n",
        "\n",
        "N = len(serie['Caudal'])\n",
        "print('Número de años en la serie original:',N)\n",
        "\n",
        "  # Cálculo de periodos de retorno\n",
        "\n",
        "m = pd.Series(range(1, N + 1))\n",
        "T = (N + 1) / m\n",
        "teoric_p = 1 - (m / (N + 1))\n",
        "\n",
        "# Crear un DataFrame que contenga todas las series\n",
        "Caudales_ajustados = pd.DataFrame({\n",
        "    'm': m,\n",
        "    'T (años)': T,\n",
        "    'P Teórica': teoric_p\n",
        "})\n",
        "\n",
        "print(Caudales_ajustados)"
      ],
      "metadata": {
        "id": "SRjR8rtjcdzq"
      },
      "execution_count": null,
      "outputs": []
    },
    {
      "cell_type": "code",
      "source": [
        "  # Cálculo de Datos Ajustados a Función Normal\n",
        "serie_z_norm = pd.Series(stats.norm.ppf(teoric_p))\n",
        "norm_a = pd.Series(serie_z_norm*sigma_norm + mu_norm)\n",
        "#print(norm_a)\n",
        "\n",
        "  # Cálculo de Datos Ajustados a Función Normal\n",
        "serie_z_log_norm = pd.Series(stats.norm.ppf(teoric_p))\n",
        "log_norm_a = (pd.Series(np.exp(serie_z_norm*beta_log_norm + alfa_log_norm)))\n",
        "#print(log_norm_a)\n",
        "  # Cálculo de Datos Ajustados a Función Gumbel\n",
        "gumbel_a = beta_gumbel - (1/alfa_gumbel) * np.log(np.log(1/teoric_p))\n",
        "#print(gumbel_a)\n",
        "\n",
        "Caudales_ajustados['Ajus Norm'] = norm_a\n",
        "Caudales_ajustados['Ajus LogNor'] = log_norm_a\n",
        "Caudales_ajustados['Ajus Gumbel'] = gumbel_a\n",
        "\n",
        "print(Caudales_ajustados)"
      ],
      "metadata": {
        "id": "sq7GHN_9oqtw"
      },
      "execution_count": null,
      "outputs": []
    }
  ]
}